{
 "cells": [
  {
   "cell_type": "markdown",
   "id": "10c284f7",
   "metadata": {},
   "source": [
    "#### 1. What user posted this job tweet? \n",
    "\n",
    "`SELECT name FROM twitter_user\n",
    "WHERE twitter_user.user_id = (SELECT user_id FROM job_tweets\n",
    "WHERE job_tweets.tweet_id = 1589411884968644615);`\n",
    "\n",
    "![title](images/query1.png)"
   ]
  },
  {
   "cell_type": "markdown",
   "id": "10b26fca",
   "metadata": {},
   "source": [
    "#### 2. What user posted a tweet about the event?\n",
    "\n",
    "`SELECT name FROM twitter_user\n",
    "WHERE twitter_user.user_id = (SELECT user_id FROM event_tweets\n",
    "WHERE event_tweets.tweet_id = 1589528329060700160);`\n",
    "\n",
    "![title](images/query2.png)"
   ]
  },
  {
   "cell_type": "markdown",
   "id": "259bd3f8",
   "metadata": {},
   "source": [
    "#### 3. When did the user post this tweet about the job? \n",
    "\n",
    "`SELECT date_posted FROM job_tweets\n",
    "WHERE job_tweets.tweet_id = 1589411884968644615;`\n",
    "\n",
    "![title](images/query3.png)"
   ]
  },
  {
   "cell_type": "markdown",
   "id": "59d384e5",
   "metadata": {},
   "source": [
    "#### 4.When did the user post this tweet about the event? \n",
    "\n",
    "`SELECT date_posted FROM event_tweets\n",
    "WHERE event_tweets.tweet_id = 1589528329060700160;`\n",
    "\n",
    "![title](images/query4.png)"
   ]
  },
  {
   "cell_type": "markdown",
   "id": "210b14c5",
   "metadata": {},
   "source": [
    "#### 5.What keywords/ hashtags are popular? \n",
    "\n",
    "`SELECT tag_name\n",
    "FROM twitter_tag \n",
    "GROUP BY tag_name \n",
    "ORDER BY COUNT(*) DESC LIMIT 5;`\n",
    "\n",
    "![title](images/query5.png)"
   ]
  },
  {
   "cell_type": "markdown",
   "id": "c3836ead",
   "metadata": {},
   "source": [
    "#### 6.What job tweets are popular? \n",
    "\n",
    "`SELECT *\n",
    "FROM job_tweets    \n",
    "ORDER BY like_count DESC LIMIT 5;`\n",
    "\n",
    "![title](images/query6.png)"
   ]
  },
  {
   "cell_type": "markdown",
   "id": "fc1ae116",
   "metadata": {},
   "source": [
    "#### 7.What event tweets are popular? \n",
    "\n",
    "`SELECT *\n",
    "FROM event_tweets    \n",
    "ORDER BY like_count DESC LIMIT 5;`\n",
    "\n",
    "![title](images/query7.png)"
   ]
  },
  {
   "cell_type": "markdown",
   "id": "66b4134f",
   "metadata": {},
   "source": [
    "#### 8.What job tweets have this user posted in the past 24 hours? \n",
    "\n",
    "`SELECT *\n",
    "FROM job_tweets    \n",
    "WHERE date_posted >= DATE_ADD(CURDATE(), INTERVAL -1 DAY) AND date_posted < DATE_ADD(CURDATE(), INTERVAL 0 DAY)\n",
    "AND user_id = 1298682524235739136;`\n",
    "\n",
    "![title](images/query8.png)"
   ]
  },
  {
   "cell_type": "markdown",
   "id": "191fc2c1",
   "metadata": {},
   "source": [
    "#### 9.What event tweets have this user posted in the past 24 hours? \n",
    "\n",
    "`SELECT *\n",
    "FROM event_tweets    \n",
    "WHERE date_posted >= DATE_ADD(CURDATE(), INTERVAL -1 DAY) AND date_posted < DATE_ADD(CURDATE(), INTERVAL 0 DAY)\n",
    "AND user_id = 58508576;`\n",
    "\n",
    "![title](images/query9.png)"
   ]
  },
  {
   "cell_type": "markdown",
   "id": "4cf49c7e",
   "metadata": {},
   "source": [
    "#### 10.How many job tweets have this user posted in the past 24 hours? \n",
    "\n",
    "`SELECT user_id, COUNT(*) as tweetCount\n",
    "FROM job_tweets    \n",
    "WHERE date_posted >= DATE_ADD(CURDATE(), INTERVAL -1 DAY) AND date_posted < DATE_ADD(CURDATE(), INTERVAL 0 DAY)\n",
    "AND user_id = 1298682524235739136;`\n",
    "\n",
    "![title](images/query10.png)"
   ]
  },
  {
   "cell_type": "markdown",
   "id": "b186ce89",
   "metadata": {},
   "source": [
    "#### 11.How many event tweets have this user posted in the past 24 hours? \n",
    "\n",
    "`SELECT user_id, COUNT(*) as tweetCount\n",
    "FROM event_tweets    \n",
    "WHERE date_posted >= DATE_ADD(CURDATE(), INTERVAL -1 DAY) AND date_posted < DATE_ADD(CURDATE(), INTERVAL 0 DAY)\n",
    "AND user_id = 58508576;`\n",
    "\n",
    "![title](images/query11.png)"
   ]
  },
  {
   "cell_type": "markdown",
   "id": "000f8cef",
   "metadata": {},
   "source": [
    "#### 12.When did this user join Twitter? \n",
    "\n",
    "`SELECT date_joined \n",
    "FROM twitter_user\n",
    "WHERE user_id = 58508576;`\n",
    "\n",
    "![title](images/query12.png)"
   ]
  }
 ],
 "metadata": {
  "kernelspec": {
   "display_name": "venv",
   "language": "python",
   "name": "venv"
  },
  "language_info": {
   "codemirror_mode": {
    "name": "ipython",
    "version": 3
   },
   "file_extension": ".py",
   "mimetype": "text/x-python",
   "name": "python",
   "nbconvert_exporter": "python",
   "pygments_lexer": "ipython3",
   "version": "3.10.8"
  }
 },
 "nbformat": 4,
 "nbformat_minor": 5
}
