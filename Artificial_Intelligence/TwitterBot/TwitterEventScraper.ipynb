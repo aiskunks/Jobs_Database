{
 "cells": [
  {
   "cell_type": "code",
   "execution_count": 46,
   "id": "fb360353",
   "metadata": {},
   "outputs": [],
   "source": [
    "import tweepy\n",
    "from dataclasses import dataclass, field\n",
    "import dataclasses\n",
    "from typing import List\n",
    "import re\n",
    "import json\n",
    "from datetime import datetime\n",
    "import stanza\n",
    "import emoji\n",
    "import html"
   ]
  },
  {
   "cell_type": "code",
   "execution_count": 47,
   "id": "03a6a7f4",
   "metadata": {},
   "outputs": [],
   "source": [
    "bearer_token = 'xxxxxxxxxxxxxxxxxxxxxxxxxxxxxxxxxxxxxxxxxxx'"
   ]
  },
  {
   "cell_type": "code",
   "execution_count": 48,
   "id": "b37c7e46",
   "metadata": {},
   "outputs": [],
   "source": [
    "client = tweepy.Client(bearer_token=bearer_token)"
   ]
  },
  {
   "cell_type": "code",
   "execution_count": 49,
   "id": "6cdaeaeb",
   "metadata": {},
   "outputs": [],
   "source": [
    "query = '(\"data science\" OR \"artificial intelligence\" OR \"machine learning\" OR \"Big Data\" OR \"Deep Learning\" OR ml OR ai) (context:131.1303989823011606528 OR context:131.1495104058285125642) lang:en has:links -is:retweet'\n",
    "pages = tweepy.Paginator(client.search_recent_tweets, query=query, expansions=['author_id'], tweet_fields=['context_annotations','created_at','author_id','entities','public_metrics','text'], user_fields=['username','name','location','created_at'], limit=400, max_results=100)"
   ]
  },
  {
   "cell_type": "code",
   "execution_count": 50,
   "id": "24b76090",
   "metadata": {},
   "outputs": [],
   "source": [
    "@dataclass\n",
    "class User():\n",
    "    id: str = ''\n",
    "    name: str = ''\n",
    "    username: str = ''\n",
    "    location: str = ''\n",
    "    dateJoined: str = ''\n",
    "\n",
    "@dataclass\n",
    "class EventTweetData():\n",
    "    id: str = ''\n",
    "    user: User = None\n",
    "    description: str = ''\n",
    "    datePosted: str = ''\n",
    "    likeCount: int = 0\n",
    "    links: List[str] = field(default_factory=list)\n",
    "    tags: List[str] = field(default_factory=list)\n",
    "    derivedTags: List[str] = field(default_factory=list)\n"
   ]
  },
  {
   "cell_type": "code",
   "execution_count": 51,
   "id": "891969b6",
   "metadata": {},
   "outputs": [],
   "source": [
    "def get_emoji_free_text(text):\n",
    "    return emoji.replace_emoji(text, replace='', version=-1)\n",
    "\n",
    "def remove_special_char(text):\n",
    "    string = html.unescape(text)\n",
    "    string = html.unescape(string)\n",
    "    return re.sub('&lt;/?[a-z]+&gt;', '', string)"
   ]
  },
  {
   "cell_type": "code",
   "execution_count": 52,
   "id": "3867b7d4",
   "metadata": {},
   "outputs": [],
   "source": [
    "eventDataModels = []\n",
    "\n",
    "for page in pages:\n",
    "\n",
    "    userList = dict()\n",
    "    tweets = page\n",
    "\n",
    "    for user in tweets.includes['users']:\n",
    "        userModel = User()\n",
    "        userModel.id = user['id']\n",
    "        userModel.name = user['name']\n",
    "        userModel.username = user['username']\n",
    "        userModel.location = user['location']\n",
    "        userModel.dateJoined = user['created_at'].strftime('%m/%d/%Y')\n",
    "        userList[userModel.id] = userModel\n",
    "\n",
    "    for tweet in tweets.data:\n",
    "        eventTweetModel = EventTweetData()\n",
    "        eventTweetModel.id = tweet['id']\n",
    "        eventTweetModel.user = userList[tweet['author_id']]\n",
    "        eventTweetModel.datePosted = tweet['created_at'].strftime('%m/%d/%Y')\n",
    "        eventTweetModel.description = tweet['text']\n",
    "        eventTweetModel.likeCount = tweet['public_metrics']['like_count']\n",
    "        urlList = list()\n",
    "        for url in tweet['entities']['urls']:\n",
    "            if re.search('twitter', url['expanded_url']):\n",
    "                continue\n",
    "            urlList.append(url['expanded_url'])\n",
    "        if len(urlList) == 0: \n",
    "            continue\n",
    "        eventTweetModel.links = urlList\n",
    "        tagList = list()\n",
    "        if ('hashtags' in tweet['entities']):\n",
    "            for hashtag in tweet['entities']['hashtags']:\n",
    "                tagList.append(hashtag['tag'])\n",
    "        tagList = list(set(tagList))\n",
    "        eventTweetModel.tags = tagList\n",
    "        eventDataModels.append(eventTweetModel)"
   ]
  },
  {
   "cell_type": "code",
   "execution_count": null,
   "id": "55b30e8b",
   "metadata": {},
   "outputs": [],
   "source": [
    "nlp = stanza.Pipeline(lang='en', processors='tokenize,ner', download_method=None)"
   ]
  },
  {
   "cell_type": "code",
   "execution_count": 54,
   "id": "da33328d",
   "metadata": {},
   "outputs": [],
   "source": [
    "def remove_hashtags(text):\n",
    "    return re.sub(\"#[A-Za-z0-9_]+\",\"\", text.replace('-', ''))\n",
    "\n",
    "for model in eventDataModels:\n",
    "    processed_data = nlp(remove_hashtags(model.description))\n",
    "    for sent in processed_data.sentences:\n",
    "        for ent in sent.ents:\n",
    "            if(ent.type == 'ORG'):\n",
    "                for tag in ent.text.split('\\n'):\n",
    "                    model.derivedTags.append(tag.strip())\n",
    "            elif(ent.type == 'TITLE'):\n",
    "                model.title = ent.text\n",
    "    model.derivedTags = list(set(model.derivedTags))"
   ]
  },
  {
   "cell_type": "code",
   "execution_count": 55,
   "id": "70a5fc24",
   "metadata": {},
   "outputs": [],
   "source": [
    "jsonMappedData = dict()\n",
    "jsonEventDictList = []\n",
    "for model in eventDataModels:\n",
    "    jsonEventDictList.append(dataclasses.asdict(model))\n",
    "jsonMappedData['twitterEventData'] = jsonEventDictList\n",
    "\n",
    "with open('twitterEventData'+datetime.now().strftime('%m_%d_%Y')+'.json', 'w', encoding='utf-8') as file:\n",
    "    json.dump(jsonMappedData, file, ensure_ascii=False, indent=4)"
   ]
  }
 ],
 "metadata": {
  "kernelspec": {
   "display_name": "Python 3.9.12",
   "language": "python",
   "name": "python3"
  },
  "language_info": {
   "codemirror_mode": {
    "name": "ipython",
    "version": 3
   },
   "file_extension": ".py",
   "mimetype": "text/x-python",
   "name": "python",
   "nbconvert_exporter": "python",
   "pygments_lexer": "ipython3",
   "version": "3.9.12"
  },
  "vscode": {
   "interpreter": {
    "hash": "ad2bdc8ecc057115af97d19610ffacc2b4e99fae6737bb82f5d7fb13d2f2c186"
   }
  }
 },
 "nbformat": 4,
 "nbformat_minor": 5
}
